{
 "cells": [
  {
   "cell_type": "code",
   "execution_count": 3,
   "metadata": {},
   "outputs": [],
   "source": [
    "from sysbox import SandboxSession\n",
    "\n",
    "\n",
    "def run_python_code():\n",
    "    with SandboxSession(lang=\"python\", keep_template=True, verbose=True) as session:\n",
    "        output = session.run(\"print('Hello, World!')\")\n",
    "        print(output.text)\n",
    "\n",
    "        output = session.run(\n",
    "            \"import numpy as np\\nprint(np.random.rand())\", libraries=[\"numpy\"]\n",
    "        )\n",
    "        print(output.text)\n",
    "\n",
    "        session.execute_command(\"pip install pandas\")\n",
    "        output = session.run(\"import pandas as pd\\nprint(pd.__version__)\")\n",
    "        print(output.text)\n",
    "\n",
    "        session.copy_to_runtime(\"/Users/lifsys/Documents/devhub/sysbox/README.md\", \"/sandbox/data.csv\")"
   ]
  },
  {
   "cell_type": "code",
   "execution_count": 4,
   "metadata": {},
   "outputs": [
    {
     "name": "stdout",
     "output_type": "stream",
     "text": [
      "Using local Docker context since client is not provided..\n",
      "Using image python:3.9.19-bullseye\n",
      "Copying /tmp/code.py to 00637c7bd1f4:/tmp/code.py..\n",
      "Executing command: python /tmp/code.py\n",
      "Output: Hello, World!\n",
      "Hello, World!\n",
      "\n",
      "Executing command: pip install numpy\n",
      "Output: Requirement already satisfied: numpy in /usr/local/lib/python3.9/site-packages (2.0.2)\n",
      "\u001b[33mWARNING: Running pip as the 'root' user can result in broken permissions and conflicting behaviour with the system package manager. It is recommended to use a virtual environment instead: https://pip.pypa.io/warnings/venv\u001b[0m\u001b[33m\n",
      "\u001b[0m\n",
      "\u001b[1m[\u001b[0m\u001b[34;49mnotice\u001b[0m\u001b[1;39;49m]\u001b[0m\u001b[39;49m A new release of pip is available: \u001b[0m\u001b[31;49m23.0.1\u001b[0m\u001b[39;49m -> \u001b[0m\u001b[32;49m24.2\u001b[0m\n",
      "\u001b[1m[\u001b[0m\u001b[34;49mnotice\u001b[0m\u001b[1;39;49m]\u001b[0m\u001b[39;49m To update, run: \u001b[0m\u001b[32;49mpip install --upgrade pip\u001b[0m\n",
      "Copying /tmp/code.py to 00637c7bd1f4:/tmp/code.py..\n",
      "Executing command: python /tmp/code.py\n",
      "Output: 0.7804672667272793\n",
      "0.7804672667272793\n",
      "\n",
      "Executing command: pip install pandas\n",
      "Output: Requirement already satisfied: pandas in /usr/local/lib/python3.9/site-packages (2.2.2)\n",
      "Requirement already satisfied: python-dateutil>=2.8.2 in /usr/local/lib/python3.9/site-packages (from pandas) (2.9.0.post0)\n",
      "Requirement already satisfied: pytz>=2020.1 in /usr/local/lib/python3.9/site-packages (from pandas) (2024.1)\n",
      "Requirement already satisfied: numpy>=1.22.4 in /usr/local/lib/python3.9/site-packages (from pandas) (2.0.2)\n",
      "Requirement already satisfied: tzdata>=2022.7 in /usr/local/lib/python3.9/site-packages (from pandas) (2024.1)\n",
      "Requirement already satisfied: six>=1.5 in /usr/local/lib/python3.9/site-packages (from python-dateutil>=2.8.2->pandas) (1.16.0)\n",
      "\u001b[33mWARNING: Running pip as the 'root' user can result in broken permissions and conflicting behaviour with the system package manager. It is recommended to use a virtual environment instead: https://pip.pypa.io/warnings/venv\u001b[0m\u001b[33m\n",
      "\u001b[0m\n",
      "\u001b[1m[\u001b[0m\u001b[34;49mnotice\u001b[0m\u001b[1;39;49m]\u001b[0m\u001b[39;49m A new release of pip is available: \u001b[0m\u001b[31;49m23.0.1\u001b[0m\u001b[39;49m -> \u001b[0m\u001b[32;49m24.2\u001b[0m\n",
      "\u001b[1m[\u001b[0m\u001b[34;49mnotice\u001b[0m\u001b[1;39;49m]\u001b[0m\u001b[39;49m To update, run: \u001b[0m\u001b[32;49mpip install --upgrade pip\u001b[0m\n",
      "Copying /tmp/code.py to 00637c7bd1f4:/tmp/code.py..\n",
      "Executing command: python /tmp/code.py\n",
      "Output: 2.2.2\n",
      "2.2.2\n",
      "\n",
      "Copying /Users/lifsys/Documents/devhub/sysbox/README.md to 00637c7bd1f4:/sandbox/data.csv..\n"
     ]
    }
   ],
   "source": [
    "run_python_code()"
   ]
  }
 ],
 "metadata": {
  "kernelspec": {
   "display_name": "lab",
   "language": "python",
   "name": "python3"
  },
  "language_info": {
   "codemirror_mode": {
    "name": "ipython",
    "version": 3
   },
   "file_extension": ".py",
   "mimetype": "text/x-python",
   "name": "python",
   "nbconvert_exporter": "python",
   "pygments_lexer": "ipython3",
   "version": "3.11.0"
  }
 },
 "nbformat": 4,
 "nbformat_minor": 2
}
